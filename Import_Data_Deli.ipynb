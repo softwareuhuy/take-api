{
  "nbformat": 4,
  "nbformat_minor": 0,
  "metadata": {
    "colab": {
      "provenance": [],
      "mount_file_id": "1HGRgujkiPX1cHFCg7J6ALc0IwZaFWhAp",
      "authorship_tag": "ABX9TyMX8q5RNrZdy5JPCnuh57fN",
      "include_colab_link": true
    },
    "kernelspec": {
      "name": "python3",
      "display_name": "Python 3"
    },
    "language_info": {
      "name": "python"
    }
  },
  "cells": [
    {
      "cell_type": "markdown",
      "metadata": {
        "id": "view-in-github",
        "colab_type": "text"
      },
      "source": [
        "<a href=\"https://colab.research.google.com/github/softwareuhuy/take-api/blob/main/Import_Data_Deli.ipynb\" target=\"_parent\"><img src=\"https://colab.research.google.com/assets/colab-badge.svg\" alt=\"Open In Colab\"/></a>"
      ]
    },
    {
      "cell_type": "code",
      "execution_count": null,
      "metadata": {
        "id": "pzd99FUkihN3"
      },
      "outputs": [],
      "source": [
        "from google.colab import drive\n",
        "import pandas as pd\n",
        "import requests\n",
        "import json\n",
        "import csv\n",
        "import time\n",
        "import os\n",
        "\n",
        "drive.mount('/content/gdrive',force_remount=True)\n",
        "path = '/content/gdrive/My Drive/Data Deli/'\n",
        "timestr = time.strftime(\"%Y%m%d-%H:%M:%S.csv\")\n",
        "filename = os.path.join(path,timestr)\n",
        "\n",
        "headers = {\n",
        "    'accept' : 'application/json',\n",
        "    'Content-type' : 'application/json'\n",
        "}\n",
        "response = requests.get(\"https://api.thingspeak.com/channels/1952002/fields/2.json?\")\n",
        "myjson = response.json()\n",
        "ourdata = []\n",
        "csvheader=['Created At','entry id','kelembapan']\n",
        "\n",
        "\n",
        "#7 jam Lebih Awal\n",
        "for x in myjson ['feeds']:\n",
        "  listing = [x['created_at'],x['entry_id'],x['field2']]\n",
        "  ourdata.append(listing)\n",
        "\n",
        "with open(filename,'w',encoding='UTF8',newline='') as f:\n",
        "  writer = csv.writer(f)\n",
        "\n",
        "  writer.writerow(csvheader)\n",
        "  writer.writerows(ourdata)\n",
        "\n",
        "print(ourdata)\n",
        "\n",
        "\n",
        "\n",
        "# def jprint(obj):\n",
        "#     # create a formatted string of the Python JSON object\n",
        "#     text = json.dumps(obj, sort_keys=True, indent=4)\n",
        "#     print(text)\n",
        "\n",
        "# jprint(response.json())\n",
        "\n"
      ]
    },
    {
      "cell_type": "code",
      "source": [
        "import time\n",
        "timestr = time.strftime(\"%Y%m%d-%H:%M:%S%z\")\n",
        "print (timestr)\n"
      ],
      "metadata": {
        "colab": {
          "base_uri": "https://localhost:8080/"
        },
        "id": "TmOy601i4IT7",
        "outputId": "a1cc23b1-c416-44ad-df6f-86369476a297"
      },
      "execution_count": null,
      "outputs": [
        {
          "output_type": "stream",
          "name": "stdout",
          "text": [
            "20230930-14:25:57+0000\n"
          ]
        }
      ]
    }
  ]
}